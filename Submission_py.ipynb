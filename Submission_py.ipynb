{
  "nbformat": 4,
  "nbformat_minor": 0,
  "metadata": {
    "colab": {
      "name": "Submission.py",
      "provenance": [],
      "collapsed_sections": []
    },
    "kernelspec": {
      "name": "python3",
      "display_name": "Python 3"
    },
    "language_info": {
      "name": "python"
    }
  },
  "cells": [
    {
      "cell_type": "markdown",
      "source": [
        "# Exploratory Data Analysis"
      ],
      "metadata": {
        "id": "giz8YtdIps1G"
      }
    },
    {
      "cell_type": "code",
      "source": [
        "#importing all the relevant libraries\n",
        "import pandas as pd\n",
        "import numpy as np\n",
        "import matplotlib.pyplot as plt\n",
        "import seaborn as sns\n",
        "from sklearn.model_selection import train_test_split\n",
        "from sklearn.feature_selection import mutual_info_classif\n",
        "from sklearn.ensemble import RandomForestClassifier\n",
        "from sklearn.preprocessing import StandardScaler\n",
        "from sklearn.model_selection import GridSearchCV\n",
        "from sklearn.linear_model import LogisticRegression\n",
        "from sklearn.neighbors import KNeighborsClassifier\n",
        "from sklearn.naive_bayes import GaussianNB\n",
        "from sklearn.tree import DecisionTreeClassifier\n",
        "from xgboost import XGBClassifier\n",
        "from sklearn.metrics import roc_auc_score,classification_report,confusion_matrix,log_loss"
      ],
      "metadata": {
        "id": "P_wMDbRcp3hO"
      },
      "execution_count": 42,
      "outputs": []
    },
    {
      "cell_type": "markdown",
      "source": [
        ""
      ],
      "metadata": {
        "id": "O8juhdKiprFr"
      }
    },
    {
      "cell_type": "code",
      "source": [
        "\n",
        "# loading the train data\n",
        "df = pd.read_csv('training_set.csv',index_col=0)\n",
        "df.head()"
      ],
      "metadata": {
        "colab": {
          "base_uri": "https://localhost:8080/",
          "height": 233
        },
        "id": "Kq6M961Xqfc_",
        "outputId": "28dacee2-3a0a-471d-d850-170155ba15b4"
      },
      "execution_count": 43,
      "outputs": [
        {
          "output_type": "execute_result",
          "data": {
            "text/plain": [
              "     X1    X2    X3     X4    X5    X6    X7    X8   X9   X10  ...  X49  \\\n",
              "0  0.00  0.00  4.34   0.00  0.00  0.00  0.00  0.00  0.0  0.00  ...  0.0   \n",
              "1  0.00  0.56  0.56   0.00  1.12  0.56  2.25  0.00  0.0  0.56  ...  0.0   \n",
              "2  0.00  0.00  0.00   0.00  0.00  0.00  0.00  0.00  0.0  0.00  ...  0.0   \n",
              "3  0.64  0.00  0.64   0.00  1.93  0.00  0.00  0.00  0.0  0.00  ...  0.0   \n",
              "4  0.58  0.00  0.00  35.46  0.58  0.00  0.58  0.58  0.0  0.00  ...  0.0   \n",
              "\n",
              "     X50  X51    X52    X53    X54     X55  X56  X57  Y  \n",
              "0  0.000  0.0  1.342  0.000  0.000   1.200    2   12  0  \n",
              "1  0.083  0.0  0.503  0.000  0.083  16.304  148  375  1  \n",
              "2  0.000  0.0  0.000  0.000  0.000   1.000    1    5  0  \n",
              "3  0.000  0.0  0.462  0.370  0.000   2.440   22  122  1  \n",
              "4  0.000  0.0  0.239  0.239  0.000   3.338  123  207  1  \n",
              "\n",
              "[5 rows x 58 columns]"
            ],
            "text/html": [
              "\n",
              "  <div id=\"df-ba27e155-2c28-48e9-b1fa-030c591f2aca\">\n",
              "    <div class=\"colab-df-container\">\n",
              "      <div>\n",
              "<style scoped>\n",
              "    .dataframe tbody tr th:only-of-type {\n",
              "        vertical-align: middle;\n",
              "    }\n",
              "\n",
              "    .dataframe tbody tr th {\n",
              "        vertical-align: top;\n",
              "    }\n",
              "\n",
              "    .dataframe thead th {\n",
              "        text-align: right;\n",
              "    }\n",
              "</style>\n",
              "<table border=\"1\" class=\"dataframe\">\n",
              "  <thead>\n",
              "    <tr style=\"text-align: right;\">\n",
              "      <th></th>\n",
              "      <th>X1</th>\n",
              "      <th>X2</th>\n",
              "      <th>X3</th>\n",
              "      <th>X4</th>\n",
              "      <th>X5</th>\n",
              "      <th>X6</th>\n",
              "      <th>X7</th>\n",
              "      <th>X8</th>\n",
              "      <th>X9</th>\n",
              "      <th>X10</th>\n",
              "      <th>...</th>\n",
              "      <th>X49</th>\n",
              "      <th>X50</th>\n",
              "      <th>X51</th>\n",
              "      <th>X52</th>\n",
              "      <th>X53</th>\n",
              "      <th>X54</th>\n",
              "      <th>X55</th>\n",
              "      <th>X56</th>\n",
              "      <th>X57</th>\n",
              "      <th>Y</th>\n",
              "    </tr>\n",
              "  </thead>\n",
              "  <tbody>\n",
              "    <tr>\n",
              "      <th>0</th>\n",
              "      <td>0.00</td>\n",
              "      <td>0.00</td>\n",
              "      <td>4.34</td>\n",
              "      <td>0.00</td>\n",
              "      <td>0.00</td>\n",
              "      <td>0.00</td>\n",
              "      <td>0.00</td>\n",
              "      <td>0.00</td>\n",
              "      <td>0.0</td>\n",
              "      <td>0.00</td>\n",
              "      <td>...</td>\n",
              "      <td>0.0</td>\n",
              "      <td>0.000</td>\n",
              "      <td>0.0</td>\n",
              "      <td>1.342</td>\n",
              "      <td>0.000</td>\n",
              "      <td>0.000</td>\n",
              "      <td>1.200</td>\n",
              "      <td>2</td>\n",
              "      <td>12</td>\n",
              "      <td>0</td>\n",
              "    </tr>\n",
              "    <tr>\n",
              "      <th>1</th>\n",
              "      <td>0.00</td>\n",
              "      <td>0.56</td>\n",
              "      <td>0.56</td>\n",
              "      <td>0.00</td>\n",
              "      <td>1.12</td>\n",
              "      <td>0.56</td>\n",
              "      <td>2.25</td>\n",
              "      <td>0.00</td>\n",
              "      <td>0.0</td>\n",
              "      <td>0.56</td>\n",
              "      <td>...</td>\n",
              "      <td>0.0</td>\n",
              "      <td>0.083</td>\n",
              "      <td>0.0</td>\n",
              "      <td>0.503</td>\n",
              "      <td>0.000</td>\n",
              "      <td>0.083</td>\n",
              "      <td>16.304</td>\n",
              "      <td>148</td>\n",
              "      <td>375</td>\n",
              "      <td>1</td>\n",
              "    </tr>\n",
              "    <tr>\n",
              "      <th>2</th>\n",
              "      <td>0.00</td>\n",
              "      <td>0.00</td>\n",
              "      <td>0.00</td>\n",
              "      <td>0.00</td>\n",
              "      <td>0.00</td>\n",
              "      <td>0.00</td>\n",
              "      <td>0.00</td>\n",
              "      <td>0.00</td>\n",
              "      <td>0.0</td>\n",
              "      <td>0.00</td>\n",
              "      <td>...</td>\n",
              "      <td>0.0</td>\n",
              "      <td>0.000</td>\n",
              "      <td>0.0</td>\n",
              "      <td>0.000</td>\n",
              "      <td>0.000</td>\n",
              "      <td>0.000</td>\n",
              "      <td>1.000</td>\n",
              "      <td>1</td>\n",
              "      <td>5</td>\n",
              "      <td>0</td>\n",
              "    </tr>\n",
              "    <tr>\n",
              "      <th>3</th>\n",
              "      <td>0.64</td>\n",
              "      <td>0.00</td>\n",
              "      <td>0.64</td>\n",
              "      <td>0.00</td>\n",
              "      <td>1.93</td>\n",
              "      <td>0.00</td>\n",
              "      <td>0.00</td>\n",
              "      <td>0.00</td>\n",
              "      <td>0.0</td>\n",
              "      <td>0.00</td>\n",
              "      <td>...</td>\n",
              "      <td>0.0</td>\n",
              "      <td>0.000</td>\n",
              "      <td>0.0</td>\n",
              "      <td>0.462</td>\n",
              "      <td>0.370</td>\n",
              "      <td>0.000</td>\n",
              "      <td>2.440</td>\n",
              "      <td>22</td>\n",
              "      <td>122</td>\n",
              "      <td>1</td>\n",
              "    </tr>\n",
              "    <tr>\n",
              "      <th>4</th>\n",
              "      <td>0.58</td>\n",
              "      <td>0.00</td>\n",
              "      <td>0.00</td>\n",
              "      <td>35.46</td>\n",
              "      <td>0.58</td>\n",
              "      <td>0.00</td>\n",
              "      <td>0.58</td>\n",
              "      <td>0.58</td>\n",
              "      <td>0.0</td>\n",
              "      <td>0.00</td>\n",
              "      <td>...</td>\n",
              "      <td>0.0</td>\n",
              "      <td>0.000</td>\n",
              "      <td>0.0</td>\n",
              "      <td>0.239</td>\n",
              "      <td>0.239</td>\n",
              "      <td>0.000</td>\n",
              "      <td>3.338</td>\n",
              "      <td>123</td>\n",
              "      <td>207</td>\n",
              "      <td>1</td>\n",
              "    </tr>\n",
              "  </tbody>\n",
              "</table>\n",
              "<p>5 rows × 58 columns</p>\n",
              "</div>\n",
              "      <button class=\"colab-df-convert\" onclick=\"convertToInteractive('df-ba27e155-2c28-48e9-b1fa-030c591f2aca')\"\n",
              "              title=\"Convert this dataframe to an interactive table.\"\n",
              "              style=\"display:none;\">\n",
              "        \n",
              "  <svg xmlns=\"http://www.w3.org/2000/svg\" height=\"24px\"viewBox=\"0 0 24 24\"\n",
              "       width=\"24px\">\n",
              "    <path d=\"M0 0h24v24H0V0z\" fill=\"none\"/>\n",
              "    <path d=\"M18.56 5.44l.94 2.06.94-2.06 2.06-.94-2.06-.94-.94-2.06-.94 2.06-2.06.94zm-11 1L8.5 8.5l.94-2.06 2.06-.94-2.06-.94L8.5 2.5l-.94 2.06-2.06.94zm10 10l.94 2.06.94-2.06 2.06-.94-2.06-.94-.94-2.06-.94 2.06-2.06.94z\"/><path d=\"M17.41 7.96l-1.37-1.37c-.4-.4-.92-.59-1.43-.59-.52 0-1.04.2-1.43.59L10.3 9.45l-7.72 7.72c-.78.78-.78 2.05 0 2.83L4 21.41c.39.39.9.59 1.41.59.51 0 1.02-.2 1.41-.59l7.78-7.78 2.81-2.81c.8-.78.8-2.07 0-2.86zM5.41 20L4 18.59l7.72-7.72 1.47 1.35L5.41 20z\"/>\n",
              "  </svg>\n",
              "      </button>\n",
              "      \n",
              "  <style>\n",
              "    .colab-df-container {\n",
              "      display:flex;\n",
              "      flex-wrap:wrap;\n",
              "      gap: 12px;\n",
              "    }\n",
              "\n",
              "    .colab-df-convert {\n",
              "      background-color: #E8F0FE;\n",
              "      border: none;\n",
              "      border-radius: 50%;\n",
              "      cursor: pointer;\n",
              "      display: none;\n",
              "      fill: #1967D2;\n",
              "      height: 32px;\n",
              "      padding: 0 0 0 0;\n",
              "      width: 32px;\n",
              "    }\n",
              "\n",
              "    .colab-df-convert:hover {\n",
              "      background-color: #E2EBFA;\n",
              "      box-shadow: 0px 1px 2px rgba(60, 64, 67, 0.3), 0px 1px 3px 1px rgba(60, 64, 67, 0.15);\n",
              "      fill: #174EA6;\n",
              "    }\n",
              "\n",
              "    [theme=dark] .colab-df-convert {\n",
              "      background-color: #3B4455;\n",
              "      fill: #D2E3FC;\n",
              "    }\n",
              "\n",
              "    [theme=dark] .colab-df-convert:hover {\n",
              "      background-color: #434B5C;\n",
              "      box-shadow: 0px 1px 3px 1px rgba(0, 0, 0, 0.15);\n",
              "      filter: drop-shadow(0px 1px 2px rgba(0, 0, 0, 0.3));\n",
              "      fill: #FFFFFF;\n",
              "    }\n",
              "  </style>\n",
              "\n",
              "      <script>\n",
              "        const buttonEl =\n",
              "          document.querySelector('#df-ba27e155-2c28-48e9-b1fa-030c591f2aca button.colab-df-convert');\n",
              "        buttonEl.style.display =\n",
              "          google.colab.kernel.accessAllowed ? 'block' : 'none';\n",
              "\n",
              "        async function convertToInteractive(key) {\n",
              "          const element = document.querySelector('#df-ba27e155-2c28-48e9-b1fa-030c591f2aca');\n",
              "          const dataTable =\n",
              "            await google.colab.kernel.invokeFunction('convertToInteractive',\n",
              "                                                     [key], {});\n",
              "          if (!dataTable) return;\n",
              "\n",
              "          const docLinkHtml = 'Like what you see? Visit the ' +\n",
              "            '<a target=\"_blank\" href=https://colab.research.google.com/notebooks/data_table.ipynb>data table notebook</a>'\n",
              "            + ' to learn more about interactive tables.';\n",
              "          element.innerHTML = '';\n",
              "          dataTable['output_type'] = 'display_data';\n",
              "          await google.colab.output.renderOutput(dataTable, element);\n",
              "          const docLink = document.createElement('div');\n",
              "          docLink.innerHTML = docLinkHtml;\n",
              "          element.appendChild(docLink);\n",
              "        }\n",
              "      </script>\n",
              "    </div>\n",
              "  </div>\n",
              "  "
            ]
          },
          "metadata": {},
          "execution_count": 43
        }
      ]
    },
    {
      "cell_type": "code",
      "source": [
        "#checking shape of data\n",
        "df.shape"
      ],
      "metadata": {
        "colab": {
          "base_uri": "https://localhost:8080/"
        },
        "id": "3sAQ1F3AsNoU",
        "outputId": "ec704be3-538c-4d2a-c545-057830b91700"
      },
      "execution_count": 44,
      "outputs": [
        {
          "output_type": "execute_result",
          "data": {
            "text/plain": [
              "(3910, 58)"
            ]
          },
          "metadata": {},
          "execution_count": 44
        }
      ]
    },
    {
      "cell_type": "code",
      "source": [
        "# checking the distribution of the  binary label\n",
        "df['Y'].value_counts(normalize=True)"
      ],
      "metadata": {
        "colab": {
          "base_uri": "https://localhost:8080/"
        },
        "id": "4N0odaN0sYxD",
        "outputId": "58ca3959-1c70-4030-86ef-e534d1f8555e"
      },
      "execution_count": 45,
      "outputs": [
        {
          "output_type": "execute_result",
          "data": {
            "text/plain": [
              "0    0.607673\n",
              "1    0.392327\n",
              "Name: Y, dtype: float64"
            ]
          },
          "metadata": {},
          "execution_count": 45
        }
      ]
    },
    {
      "cell_type": "code",
      "source": [
        "#checking missing values\n",
        "df.isnull().sum()"
      ],
      "metadata": {
        "colab": {
          "base_uri": "https://localhost:8080/"
        },
        "id": "wT6iCrsIsnID",
        "outputId": "464a30df-59b2-4ffc-ddb2-f212a2069842"
      },
      "execution_count": 46,
      "outputs": [
        {
          "output_type": "execute_result",
          "data": {
            "text/plain": [
              "X1     0\n",
              "X2     0\n",
              "X3     0\n",
              "X4     0\n",
              "X5     0\n",
              "X6     0\n",
              "X7     0\n",
              "X8     0\n",
              "X9     0\n",
              "X10    0\n",
              "X11    0\n",
              "X12    0\n",
              "X13    0\n",
              "X14    0\n",
              "X15    0\n",
              "X16    0\n",
              "X17    0\n",
              "X18    0\n",
              "X19    0\n",
              "X20    0\n",
              "X21    0\n",
              "X22    0\n",
              "X23    0\n",
              "X24    0\n",
              "X25    0\n",
              "X26    0\n",
              "X27    0\n",
              "X28    0\n",
              "X29    0\n",
              "X30    0\n",
              "X31    0\n",
              "X32    0\n",
              "X33    0\n",
              "X34    0\n",
              "X35    0\n",
              "X36    0\n",
              "X37    0\n",
              "X38    0\n",
              "X39    0\n",
              "X40    0\n",
              "X41    0\n",
              "X42    0\n",
              "X43    0\n",
              "X44    0\n",
              "X45    0\n",
              "X46    0\n",
              "X47    0\n",
              "X48    0\n",
              "X49    0\n",
              "X50    0\n",
              "X51    0\n",
              "X52    0\n",
              "X53    0\n",
              "X54    0\n",
              "X55    0\n",
              "X56    0\n",
              "X57    0\n",
              "Y      0\n",
              "dtype: int64"
            ]
          },
          "metadata": {},
          "execution_count": 46
        }
      ]
    },
    {
      "cell_type": "code",
      "source": [
        "df.describe()"
      ],
      "metadata": {
        "colab": {
          "base_uri": "https://localhost:8080/",
          "height": 390
        },
        "id": "9oOYo3rKtHYG",
        "outputId": "75d90bbc-d2ba-4aa7-ca57-92ef5fb3c864"
      },
      "execution_count": 47,
      "outputs": [
        {
          "output_type": "execute_result",
          "data": {
            "text/plain": [
              "                X1           X2           X3           X4           X5  \\\n",
              "count  3910.000000  3910.000000  3910.000000  3910.000000  3910.000000   \n",
              "mean      0.102990     0.206419     0.284419     0.062074     0.311309   \n",
              "std       0.296322     1.253828     0.504352     1.369361     0.656195   \n",
              "min       0.000000     0.000000     0.000000     0.000000     0.000000   \n",
              "25%       0.000000     0.000000     0.000000     0.000000     0.000000   \n",
              "50%       0.000000     0.000000     0.000000     0.000000     0.000000   \n",
              "75%       0.000000     0.000000     0.430000     0.000000     0.387500   \n",
              "max       4.340000    14.280000     4.540000    42.810000     9.090000   \n",
              "\n",
              "                X6           X7           X8           X9          X10  ...  \\\n",
              "count  3910.000000  3910.000000  3910.000000  3910.000000  3910.000000  ...   \n",
              "mean      0.095974     0.112320     0.106041     0.091146     0.244345  ...   \n",
              "std       0.261455     0.389516     0.398694     0.271417     0.667065  ...   \n",
              "min       0.000000     0.000000     0.000000     0.000000     0.000000  ...   \n",
              "25%       0.000000     0.000000     0.000000     0.000000     0.000000  ...   \n",
              "50%       0.000000     0.000000     0.000000     0.000000     0.000000  ...   \n",
              "75%       0.000000     0.000000     0.000000     0.000000     0.170000  ...   \n",
              "max       3.570000     7.270000    11.110000     3.230000    18.180000  ...   \n",
              "\n",
              "               X49          X50          X51          X52          X53  \\\n",
              "count  3910.000000  3910.000000  3910.000000  3910.000000  3910.000000   \n",
              "mean      0.037493     0.139252     0.015876     0.272971     0.077820   \n",
              "std       0.235054     0.276309     0.083600     0.858634     0.256991   \n",
              "min       0.000000     0.000000     0.000000     0.000000     0.000000   \n",
              "25%       0.000000     0.000000     0.000000     0.000000     0.000000   \n",
              "50%       0.000000     0.066000     0.000000     0.000000     0.000000   \n",
              "75%       0.000000     0.188000     0.000000     0.317250     0.054000   \n",
              "max       4.385000     9.752000     2.777000    32.478000     6.003000   \n",
              "\n",
              "               X54          X55          X56           X57            Y  \n",
              "count  3910.000000  3910.000000  3910.000000   3910.000000  3910.000000  \n",
              "mean      0.043828     5.047150    52.338107    283.059079     0.392327  \n",
              "std       0.452862    31.397035   204.445218    578.339858     0.488331  \n",
              "min       0.000000     1.000000     1.000000      1.000000     0.000000  \n",
              "25%       0.000000     1.580750     6.000000     35.000000     0.000000  \n",
              "50%       0.000000     2.263500    15.000000     94.000000     0.000000  \n",
              "75%       0.000000     3.714000    43.000000    264.000000     1.000000  \n",
              "max      19.829000  1102.500000  9989.000000  10062.000000     1.000000  \n",
              "\n",
              "[8 rows x 58 columns]"
            ],
            "text/html": [
              "\n",
              "  <div id=\"df-e1a57b98-9753-4ff9-ae9f-6c3a5e867afb\">\n",
              "    <div class=\"colab-df-container\">\n",
              "      <div>\n",
              "<style scoped>\n",
              "    .dataframe tbody tr th:only-of-type {\n",
              "        vertical-align: middle;\n",
              "    }\n",
              "\n",
              "    .dataframe tbody tr th {\n",
              "        vertical-align: top;\n",
              "    }\n",
              "\n",
              "    .dataframe thead th {\n",
              "        text-align: right;\n",
              "    }\n",
              "</style>\n",
              "<table border=\"1\" class=\"dataframe\">\n",
              "  <thead>\n",
              "    <tr style=\"text-align: right;\">\n",
              "      <th></th>\n",
              "      <th>X1</th>\n",
              "      <th>X2</th>\n",
              "      <th>X3</th>\n",
              "      <th>X4</th>\n",
              "      <th>X5</th>\n",
              "      <th>X6</th>\n",
              "      <th>X7</th>\n",
              "      <th>X8</th>\n",
              "      <th>X9</th>\n",
              "      <th>X10</th>\n",
              "      <th>...</th>\n",
              "      <th>X49</th>\n",
              "      <th>X50</th>\n",
              "      <th>X51</th>\n",
              "      <th>X52</th>\n",
              "      <th>X53</th>\n",
              "      <th>X54</th>\n",
              "      <th>X55</th>\n",
              "      <th>X56</th>\n",
              "      <th>X57</th>\n",
              "      <th>Y</th>\n",
              "    </tr>\n",
              "  </thead>\n",
              "  <tbody>\n",
              "    <tr>\n",
              "      <th>count</th>\n",
              "      <td>3910.000000</td>\n",
              "      <td>3910.000000</td>\n",
              "      <td>3910.000000</td>\n",
              "      <td>3910.000000</td>\n",
              "      <td>3910.000000</td>\n",
              "      <td>3910.000000</td>\n",
              "      <td>3910.000000</td>\n",
              "      <td>3910.000000</td>\n",
              "      <td>3910.000000</td>\n",
              "      <td>3910.000000</td>\n",
              "      <td>...</td>\n",
              "      <td>3910.000000</td>\n",
              "      <td>3910.000000</td>\n",
              "      <td>3910.000000</td>\n",
              "      <td>3910.000000</td>\n",
              "      <td>3910.000000</td>\n",
              "      <td>3910.000000</td>\n",
              "      <td>3910.000000</td>\n",
              "      <td>3910.000000</td>\n",
              "      <td>3910.000000</td>\n",
              "      <td>3910.000000</td>\n",
              "    </tr>\n",
              "    <tr>\n",
              "      <th>mean</th>\n",
              "      <td>0.102990</td>\n",
              "      <td>0.206419</td>\n",
              "      <td>0.284419</td>\n",
              "      <td>0.062074</td>\n",
              "      <td>0.311309</td>\n",
              "      <td>0.095974</td>\n",
              "      <td>0.112320</td>\n",
              "      <td>0.106041</td>\n",
              "      <td>0.091146</td>\n",
              "      <td>0.244345</td>\n",
              "      <td>...</td>\n",
              "      <td>0.037493</td>\n",
              "      <td>0.139252</td>\n",
              "      <td>0.015876</td>\n",
              "      <td>0.272971</td>\n",
              "      <td>0.077820</td>\n",
              "      <td>0.043828</td>\n",
              "      <td>5.047150</td>\n",
              "      <td>52.338107</td>\n",
              "      <td>283.059079</td>\n",
              "      <td>0.392327</td>\n",
              "    </tr>\n",
              "    <tr>\n",
              "      <th>std</th>\n",
              "      <td>0.296322</td>\n",
              "      <td>1.253828</td>\n",
              "      <td>0.504352</td>\n",
              "      <td>1.369361</td>\n",
              "      <td>0.656195</td>\n",
              "      <td>0.261455</td>\n",
              "      <td>0.389516</td>\n",
              "      <td>0.398694</td>\n",
              "      <td>0.271417</td>\n",
              "      <td>0.667065</td>\n",
              "      <td>...</td>\n",
              "      <td>0.235054</td>\n",
              "      <td>0.276309</td>\n",
              "      <td>0.083600</td>\n",
              "      <td>0.858634</td>\n",
              "      <td>0.256991</td>\n",
              "      <td>0.452862</td>\n",
              "      <td>31.397035</td>\n",
              "      <td>204.445218</td>\n",
              "      <td>578.339858</td>\n",
              "      <td>0.488331</td>\n",
              "    </tr>\n",
              "    <tr>\n",
              "      <th>min</th>\n",
              "      <td>0.000000</td>\n",
              "      <td>0.000000</td>\n",
              "      <td>0.000000</td>\n",
              "      <td>0.000000</td>\n",
              "      <td>0.000000</td>\n",
              "      <td>0.000000</td>\n",
              "      <td>0.000000</td>\n",
              "      <td>0.000000</td>\n",
              "      <td>0.000000</td>\n",
              "      <td>0.000000</td>\n",
              "      <td>...</td>\n",
              "      <td>0.000000</td>\n",
              "      <td>0.000000</td>\n",
              "      <td>0.000000</td>\n",
              "      <td>0.000000</td>\n",
              "      <td>0.000000</td>\n",
              "      <td>0.000000</td>\n",
              "      <td>1.000000</td>\n",
              "      <td>1.000000</td>\n",
              "      <td>1.000000</td>\n",
              "      <td>0.000000</td>\n",
              "    </tr>\n",
              "    <tr>\n",
              "      <th>25%</th>\n",
              "      <td>0.000000</td>\n",
              "      <td>0.000000</td>\n",
              "      <td>0.000000</td>\n",
              "      <td>0.000000</td>\n",
              "      <td>0.000000</td>\n",
              "      <td>0.000000</td>\n",
              "      <td>0.000000</td>\n",
              "      <td>0.000000</td>\n",
              "      <td>0.000000</td>\n",
              "      <td>0.000000</td>\n",
              "      <td>...</td>\n",
              "      <td>0.000000</td>\n",
              "      <td>0.000000</td>\n",
              "      <td>0.000000</td>\n",
              "      <td>0.000000</td>\n",
              "      <td>0.000000</td>\n",
              "      <td>0.000000</td>\n",
              "      <td>1.580750</td>\n",
              "      <td>6.000000</td>\n",
              "      <td>35.000000</td>\n",
              "      <td>0.000000</td>\n",
              "    </tr>\n",
              "    <tr>\n",
              "      <th>50%</th>\n",
              "      <td>0.000000</td>\n",
              "      <td>0.000000</td>\n",
              "      <td>0.000000</td>\n",
              "      <td>0.000000</td>\n",
              "      <td>0.000000</td>\n",
              "      <td>0.000000</td>\n",
              "      <td>0.000000</td>\n",
              "      <td>0.000000</td>\n",
              "      <td>0.000000</td>\n",
              "      <td>0.000000</td>\n",
              "      <td>...</td>\n",
              "      <td>0.000000</td>\n",
              "      <td>0.066000</td>\n",
              "      <td>0.000000</td>\n",
              "      <td>0.000000</td>\n",
              "      <td>0.000000</td>\n",
              "      <td>0.000000</td>\n",
              "      <td>2.263500</td>\n",
              "      <td>15.000000</td>\n",
              "      <td>94.000000</td>\n",
              "      <td>0.000000</td>\n",
              "    </tr>\n",
              "    <tr>\n",
              "      <th>75%</th>\n",
              "      <td>0.000000</td>\n",
              "      <td>0.000000</td>\n",
              "      <td>0.430000</td>\n",
              "      <td>0.000000</td>\n",
              "      <td>0.387500</td>\n",
              "      <td>0.000000</td>\n",
              "      <td>0.000000</td>\n",
              "      <td>0.000000</td>\n",
              "      <td>0.000000</td>\n",
              "      <td>0.170000</td>\n",
              "      <td>...</td>\n",
              "      <td>0.000000</td>\n",
              "      <td>0.188000</td>\n",
              "      <td>0.000000</td>\n",
              "      <td>0.317250</td>\n",
              "      <td>0.054000</td>\n",
              "      <td>0.000000</td>\n",
              "      <td>3.714000</td>\n",
              "      <td>43.000000</td>\n",
              "      <td>264.000000</td>\n",
              "      <td>1.000000</td>\n",
              "    </tr>\n",
              "    <tr>\n",
              "      <th>max</th>\n",
              "      <td>4.340000</td>\n",
              "      <td>14.280000</td>\n",
              "      <td>4.540000</td>\n",
              "      <td>42.810000</td>\n",
              "      <td>9.090000</td>\n",
              "      <td>3.570000</td>\n",
              "      <td>7.270000</td>\n",
              "      <td>11.110000</td>\n",
              "      <td>3.230000</td>\n",
              "      <td>18.180000</td>\n",
              "      <td>...</td>\n",
              "      <td>4.385000</td>\n",
              "      <td>9.752000</td>\n",
              "      <td>2.777000</td>\n",
              "      <td>32.478000</td>\n",
              "      <td>6.003000</td>\n",
              "      <td>19.829000</td>\n",
              "      <td>1102.500000</td>\n",
              "      <td>9989.000000</td>\n",
              "      <td>10062.000000</td>\n",
              "      <td>1.000000</td>\n",
              "    </tr>\n",
              "  </tbody>\n",
              "</table>\n",
              "<p>8 rows × 58 columns</p>\n",
              "</div>\n",
              "      <button class=\"colab-df-convert\" onclick=\"convertToInteractive('df-e1a57b98-9753-4ff9-ae9f-6c3a5e867afb')\"\n",
              "              title=\"Convert this dataframe to an interactive table.\"\n",
              "              style=\"display:none;\">\n",
              "        \n",
              "  <svg xmlns=\"http://www.w3.org/2000/svg\" height=\"24px\"viewBox=\"0 0 24 24\"\n",
              "       width=\"24px\">\n",
              "    <path d=\"M0 0h24v24H0V0z\" fill=\"none\"/>\n",
              "    <path d=\"M18.56 5.44l.94 2.06.94-2.06 2.06-.94-2.06-.94-.94-2.06-.94 2.06-2.06.94zm-11 1L8.5 8.5l.94-2.06 2.06-.94-2.06-.94L8.5 2.5l-.94 2.06-2.06.94zm10 10l.94 2.06.94-2.06 2.06-.94-2.06-.94-.94-2.06-.94 2.06-2.06.94z\"/><path d=\"M17.41 7.96l-1.37-1.37c-.4-.4-.92-.59-1.43-.59-.52 0-1.04.2-1.43.59L10.3 9.45l-7.72 7.72c-.78.78-.78 2.05 0 2.83L4 21.41c.39.39.9.59 1.41.59.51 0 1.02-.2 1.41-.59l7.78-7.78 2.81-2.81c.8-.78.8-2.07 0-2.86zM5.41 20L4 18.59l7.72-7.72 1.47 1.35L5.41 20z\"/>\n",
              "  </svg>\n",
              "      </button>\n",
              "      \n",
              "  <style>\n",
              "    .colab-df-container {\n",
              "      display:flex;\n",
              "      flex-wrap:wrap;\n",
              "      gap: 12px;\n",
              "    }\n",
              "\n",
              "    .colab-df-convert {\n",
              "      background-color: #E8F0FE;\n",
              "      border: none;\n",
              "      border-radius: 50%;\n",
              "      cursor: pointer;\n",
              "      display: none;\n",
              "      fill: #1967D2;\n",
              "      height: 32px;\n",
              "      padding: 0 0 0 0;\n",
              "      width: 32px;\n",
              "    }\n",
              "\n",
              "    .colab-df-convert:hover {\n",
              "      background-color: #E2EBFA;\n",
              "      box-shadow: 0px 1px 2px rgba(60, 64, 67, 0.3), 0px 1px 3px 1px rgba(60, 64, 67, 0.15);\n",
              "      fill: #174EA6;\n",
              "    }\n",
              "\n",
              "    [theme=dark] .colab-df-convert {\n",
              "      background-color: #3B4455;\n",
              "      fill: #D2E3FC;\n",
              "    }\n",
              "\n",
              "    [theme=dark] .colab-df-convert:hover {\n",
              "      background-color: #434B5C;\n",
              "      box-shadow: 0px 1px 3px 1px rgba(0, 0, 0, 0.15);\n",
              "      filter: drop-shadow(0px 1px 2px rgba(0, 0, 0, 0.3));\n",
              "      fill: #FFFFFF;\n",
              "    }\n",
              "  </style>\n",
              "\n",
              "      <script>\n",
              "        const buttonEl =\n",
              "          document.querySelector('#df-e1a57b98-9753-4ff9-ae9f-6c3a5e867afb button.colab-df-convert');\n",
              "        buttonEl.style.display =\n",
              "          google.colab.kernel.accessAllowed ? 'block' : 'none';\n",
              "\n",
              "        async function convertToInteractive(key) {\n",
              "          const element = document.querySelector('#df-e1a57b98-9753-4ff9-ae9f-6c3a5e867afb');\n",
              "          const dataTable =\n",
              "            await google.colab.kernel.invokeFunction('convertToInteractive',\n",
              "                                                     [key], {});\n",
              "          if (!dataTable) return;\n",
              "\n",
              "          const docLinkHtml = 'Like what you see? Visit the ' +\n",
              "            '<a target=\"_blank\" href=https://colab.research.google.com/notebooks/data_table.ipynb>data table notebook</a>'\n",
              "            + ' to learn more about interactive tables.';\n",
              "          element.innerHTML = '';\n",
              "          dataTable['output_type'] = 'display_data';\n",
              "          await google.colab.output.renderOutput(dataTable, element);\n",
              "          const docLink = document.createElement('div');\n",
              "          docLink.innerHTML = docLinkHtml;\n",
              "          element.appendChild(docLink);\n",
              "        }\n",
              "      </script>\n",
              "    </div>\n",
              "  </div>\n",
              "  "
            ]
          },
          "metadata": {},
          "execution_count": 47
        }
      ]
    },
    {
      "cell_type": "code",
      "source": [
        "fig,ax = plt.subplots(nrows=20,ncols=3,figsize=(10,25))\n",
        "j = 0\n",
        "k = 0\n",
        "for i in range(1,58):\n",
        "    if k>2:\n",
        "      k=0\n",
        "      j= j+1\n",
        "    ax[j][k].plot(sorted(df['X'+str(i)]));\n",
        "    k=k+1"
      ],
      "metadata": {
        "colab": {
          "base_uri": "https://localhost:8080/",
          "height": 1000
        },
        "id": "j4nftb8cuWlK",
        "outputId": "5b582687-54a0-43db-b17f-a0b555dca9ba"
      },
      "execution_count": 48,
      "outputs": [
        {
          "output_type": "display_data",
          "data": {
            "text/plain": [
              "<Figure size 720x1800 with 60 Axes>"
            ],
            "image/png": "[encoded data removed]"
          },
          "metadata": {
            "needs_background": "light"
          }
        }
      ]
    },
    {
      "cell_type": "code",
      "source": [
        "#splitting data into X and Y\n",
        "X = df.drop(['Y'],axis=1)\n",
        "y = df['Y']"
      ],
      "metadata": {
        "id": "dtMzLcucu6bq"
      },
      "execution_count": 49,
      "outputs": []
    },
    {
      "cell_type": "code",
      "source": [
        "#splitting the training and testing data\n",
        "X_train, X_test, y_train, y_test = train_test_split(X, y, test_size=0.2, stratify=y, random_state=42)"
      ],
      "metadata": {
        "id": "O-IK7padvMc2"
      },
      "execution_count": 50,
      "outputs": []
    },
    {
      "cell_type": "markdown",
      "source": [
        "#Feature Selection"
      ],
      "metadata": {
        "id": "3i88WC308mgW"
      }
    },
    {
      "cell_type": "code",
      "source": [
        "#feature selection using mutual information\n",
        "\n",
        "importance = mutual_info_classif(X, y)\n",
        "feat_importance = pd.Series(importance, index=X.columns[:])\n",
        "feat_importance.sort_values().plot(kind='barh', color=sns.xkcd_rgb['light blue'], figsize=[10,15])\n",
        "plt.show()"
      ],
      "metadata": {
        "colab": {
          "base_uri": "https://localhost:8080/",
          "height": 863
        },
        "id": "iZ0hSXn4yp8p",
        "outputId": "f6244937-9cb4-4beb-c367-c03f5b8a9979"
      },
      "execution_count": 51,
      "outputs": [
        {
          "output_type": "display_data",
          "data": {
            "text/plain": [
              "<Figure size 720x1080 with 1 Axes>"
            ],
            "image/png": "[encoded data removed]"
          },
          "metadata": {
            "needs_background": "light"
          }
        }
      ]
    },
    {
      "cell_type": "code",
      "source": [
        "top_features = feat_importance[feat_importance > 0.05].index.to_list()\n",
        "len(top_features)"
      ],
      "metadata": {
        "colab": {
          "base_uri": "https://localhost:8080/"
        },
        "id": "WM4lwCMt2H9d",
        "outputId": "d95b8220-b714-40a4-9ffc-5b2a078cda40"
      },
      "execution_count": 52,
      "outputs": [
        {
          "output_type": "execute_result",
          "data": {
            "text/plain": [
              "27"
            ]
          },
          "metadata": {},
          "execution_count": 52
        }
      ]
    },
    {
      "cell_type": "code",
      "source": [
        "# Selecting the top features from data\n",
        "X_train_dash = X_train[top_features]\n",
        "X_test_dash = X_test[top_features]"
      ],
      "metadata": {
        "id": "PFT7CwZT4dL6"
      },
      "execution_count": 53,
      "outputs": []
    },
    {
      "cell_type": "code",
      "source": [
        "# Checking the shape of X_train_dash\n",
        "X_train_dash.shape"
      ],
      "metadata": {
        "colab": {
          "base_uri": "https://localhost:8080/"
        },
        "id": "OnoHnkn646p0",
        "outputId": "e8d241ab-9bc3-4d3d-f0a6-963c37229c3c"
      },
      "execution_count": 54,
      "outputs": [
        {
          "output_type": "execute_result",
          "data": {
            "text/plain": [
              "(3128, 27)"
            ]
          },
          "metadata": {},
          "execution_count": 54
        }
      ]
    },
    {
      "cell_type": "code",
      "source": [
        "# Checking the shape of X_test_dash\n",
        "X_test_dash.shape"
      ],
      "metadata": {
        "colab": {
          "base_uri": "https://localhost:8080/"
        },
        "id": "xxDeIhBI5AeN",
        "outputId": "65d1705e-3167-4cfa-f855-b2d1a1a22052"
      },
      "execution_count": 55,
      "outputs": [
        {
          "output_type": "execute_result",
          "data": {
            "text/plain": [
              "(782, 27)"
            ]
          },
          "metadata": {},
          "execution_count": 55
        }
      ]
    },
    {
      "cell_type": "markdown",
      "source": [
        "#Normalizing Data"
      ],
      "metadata": {
        "id": "GjO8ffUz5hAQ"
      }
    },
    {
      "cell_type": "code",
      "source": [
        "# Using StandardScaler to normalize our data\n",
        "scaler = StandardScaler()\n",
        "scaler.fit(X_train_dash)\n",
        "\n",
        "# transform\n",
        "X_train_dash = pd.DataFrame(scaler.transform(X_train_dash),columns=X_train_dash.columns)\n",
        "X_test_dash = pd.DataFrame(scaler.transform(X_test_dash),columns=X_test_dash.columns)"
      ],
      "metadata": {
        "id": "P414V1sE5k0U"
      },
      "execution_count": 56,
      "outputs": []
    },
    {
      "cell_type": "markdown",
      "source": [
        "#Training"
      ],
      "metadata": {
        "id": "29OnhFZJ7MPE"
      }
    },
    {
      "cell_type": "markdown",
      "source": [
        "##Random Model\n"
      ],
      "metadata": {
        "id": "c_hHBJp97TDw"
      }
    },
    {
      "cell_type": "code",
      "source": [
        "#y_pred_test = np.random.binomial(1,0.5,size=len(X_test_dash))\n",
        "y_train_prob = np.random.rand(len(X_train_dash))\n",
        "y_test_prob = np.random.rand(len(X_test_dash))\n",
        "\n",
        "# Calculating logloss score for our model\n",
        "print(f'Train Logloss for the model -> {log_loss(y_train,y_train_prob)}')\n",
        "print(f'Test Logloss for the model -> {log_loss(y_test,y_test_prob)}')\n",
        "\n",
        "print('-'*50)\n",
        "# Calculating the AUC score for our model\n",
        "print(f'Train AUC Score for the model -> {roc_auc_score(y_train, y_train_prob)}')\n",
        "print(f'Test AUC Score for the model -> {roc_auc_score(y_test, y_test_prob)}')"
      ],
      "metadata": {
        "colab": {
          "base_uri": "https://localhost:8080/"
        },
        "id": "qh0_Jrm77Vmg",
        "outputId": "5b676170-aeac-48e0-cb38-1d75812d122f"
      },
      "execution_count": 57,
      "outputs": [
        {
          "output_type": "stream",
          "name": "stdout",
          "text": [
            "Train Logloss for the model -> 1.005149843240553\n",
            "Test Logloss for the model -> 1.075756641422011\n",
            "--------------------------------------------------\n",
            "Train AUC Score for the model -> 0.5029639528288419\n",
            "Test AUC Score for the model -> 0.4594205383164753\n"
          ]
        }
      ]
    },
    {
      "cell_type": "markdown",
      "source": [
        "##Logistic Regression"
      ],
      "metadata": {
        "id": "Ks2ShmO77nFw"
      }
    },
    {
      "cell_type": "code",
      "source": [
        "# Using l2 norm\n",
        "estimator = LogisticRegression(penalty='l2', max_iter=275, random_state=50)\n",
        "parameters = {'C':[1e-4,1e-3,1e-2,1e-1,1e0,1e1,1e2,1e3,1e4]}\n",
        "\n",
        "# Performing GridSearchCV\n",
        "clf = GridSearchCV(estimator, parameters, cv=5, n_jobs=-1, scoring='neg_log_loss', return_train_score=True)\n",
        "clf.fit(X_train_dash, y_train)"
      ],
      "metadata": {
        "colab": {
          "base_uri": "https://localhost:8080/"
        },
        "id": "PFY74T007q71",
        "outputId": "c137e6e1-4df6-4350-8324-4d6e863f1051"
      },
      "execution_count": 58,
      "outputs": [
        {
          "output_type": "execute_result",
          "data": {
            "text/plain": [
              "GridSearchCV(cv=5, estimator=LogisticRegression(max_iter=275, random_state=50),\n",
              "             n_jobs=-1,\n",
              "             param_grid={'C': [0.0001, 0.001, 0.01, 0.1, 1.0, 10.0, 100.0,\n",
              "                               1000.0, 10000.0]},\n",
              "             return_train_score=True, scoring='neg_log_loss')"
            ]
          },
          "metadata": {},
          "execution_count": 58
        }
      ]
    },
    {
      "cell_type": "code",
      "source": [
        "# Storing all the results of GridSearchCV in a DataFrame\n",
        "results = pd.DataFrame.from_dict(clf.cv_results_)\n",
        "#results.head()\n",
        "\n",
        "x = list(map(str,results['param_C'].values))\n",
        "y1 = results['mean_train_score'].values\n",
        "y2 = results['mean_test_score'].values\n",
        "\n",
        "plt.plot(x, y1, label='Train')\n",
        "plt.plot(x, y2, label='CV')\n",
        "plt.legend()\n",
        "plt.xlabel('C {Hyperparameter}')\n",
        "plt.ylabel('Logloss Score')\n",
        "plt.title('Performance of model on train & cv data');"
      ],
      "metadata": {
        "colab": {
          "base_uri": "https://localhost:8080/",
          "height": 295
        },
        "id": "3GJKglhs7yGN",
        "outputId": "e2ba3846-1328-41a5-fe5c-46238d94ca7f"
      },
      "execution_count": 59,
      "outputs": [
        {
          "output_type": "display_data",
          "data": {
            "text/plain": [
              "<Figure size 432x288 with 1 Axes>"
            ],
            "image/png": "[encoded data removed]"
          },
          "metadata": {
            "needs_background": "light"
          }
        }
      ]
    },
    {
      "cell_type": "markdown",
      "source": [
        "##Decision Tree"
      ],
      "metadata": {
        "id": "gvcEtPFH8DfP"
      }
    },
    {
      "cell_type": "code",
      "source": [
        "# Using Decision Tree\n",
        "classifier = DecisionTreeClassifier(criterion='gini',min_samples_split=3,random_state=50)\n",
        "classifier.fit(X_train_dash, y_train)\n",
        "\n",
        "y_train_pred = classifier.predict(X_train_dash)\n",
        "y_train_prob = classifier.predict_proba(X_train_dash)[:,1]\n",
        "y_test_pred = classifier.predict(X_test_dash)\n",
        "y_test_prob = classifier.predict_proba(X_test_dash)[:,1]\n",
        "\n",
        "\n",
        "# Calculating logloss score for our model\n",
        "print(f'Train Logloss for the model -> {log_loss(y_train,y_train_prob)}')\n",
        "print(f'Test Logloss for the model -> {log_loss(y_test,y_test_prob)}')\n",
        "\n",
        "print('-'*50)\n",
        "# Calculating the AUC score for our model\n",
        "print(f'Train AUC Score for the model -> {roc_auc_score(y_train, y_train_prob)}')\n",
        "print(f'Test AUC Score for the model -> {roc_auc_score(y_test, y_test_prob)}')"
      ],
      "metadata": {
        "colab": {
          "base_uri": "https://localhost:8080/"
        },
        "id": "cIqg5AuA8Fnl",
        "outputId": "a734cae7-5252-4a8f-c0bd-281a26e4d1b0"
      },
      "execution_count": 60,
      "outputs": [
        {
          "output_type": "stream",
          "name": "stdout",
          "text": [
            "Train Logloss for the model -> 0.006480552197262438\n",
            "Test Logloss for the model -> 3.630982612999546\n",
            "--------------------------------------------------\n",
            "Train AUC Score for the model -> 0.9999575567614007\n",
            "Test AUC Score for the model -> 0.8861477798731355\n"
          ]
        }
      ]
    },
    {
      "cell_type": "markdown",
      "source": [
        "##Random Forest"
      ],
      "metadata": {
        "id": "r35T1MjV8KLX"
      }
    },
    {
      "cell_type": "code",
      "source": [
        "# Using Random Forest\n",
        "classifier = RandomForestClassifier(n_estimators=1000,\n",
        "                                      max_depth=None,\n",
        "                                      min_samples_split=3,\n",
        "                                      n_jobs=-1,\n",
        "                                      class_weight='balanced',\n",
        "                                      random_state=50)\n",
        "classifier.fit(X_train_dash, y_train)\n",
        "\n",
        "y_train_pred = classifier.predict(X_train_dash)\n",
        "y_train_prob = classifier.predict_proba(X_train_dash)[:,1]\n",
        "y_test_pred = classifier.predict(X_test_dash)\n",
        "y_test_prob = classifier.predict_proba(X_test_dash)[:,1]\n",
        "\n",
        "\n",
        "# Calculating logloss score for our model\n",
        "print(f'Train Logloss for the model -> {log_loss(y_train,y_train_prob)}')\n",
        "print(f'Test Logloss for the model -> {log_loss(y_test,y_test_prob)}')\n",
        "\n",
        "print('-'*50)\n",
        "# Calculating the AUC score for our model\n",
        "print(f'Train AUC Score for the model -> {roc_auc_score(y_train, y_train_prob)}')\n",
        "print(f'Test AUC Score for the model -> {roc_auc_score(y_test, y_test_prob)}')"
      ],
      "metadata": {
        "colab": {
          "base_uri": "https://localhost:8080/"
        },
        "id": "2ytGvuRj8LyX",
        "outputId": "82642396-eb69-4a43-97cd-73f947fd8713"
      },
      "execution_count": 61,
      "outputs": [
        {
          "output_type": "stream",
          "name": "stdout",
          "text": [
            "Train Logloss for the model -> 0.052364384315624145\n",
            "Test Logloss for the model -> 0.1592106656802531\n",
            "--------------------------------------------------\n",
            "Train AUC Score for the model -> 0.9999886389310819\n",
            "Test AUC Score for the model -> 0.9888976512943597\n"
          ]
        }
      ]
    },
    {
      "cell_type": "markdown",
      "source": [
        "XgBoost"
      ],
      "metadata": {
        "id": "NLc67oQt8VLV"
      }
    },
    {
      "cell_type": "code",
      "source": [
        "# Using Xgboost\n",
        "classifier = XGBClassifier(n_estimators=1000,\n",
        "                           max_depth=5,\n",
        "                           learning_rate=0.15,\n",
        "                           colsample_bytree=1,\n",
        "                           subsample=1,\n",
        "                           reg_alpha = 0.5,\n",
        "                           gamma=10,\n",
        "                           n_jobs=-1,\n",
        "                           eval_metric='logloss',\n",
        "                           use_label_encoder=False)\n",
        "\n",
        "classifier.fit(X_train_dash, y_train)\n",
        "\n",
        "y_train_pred = classifier.predict(X_train_dash)\n",
        "y_train_prob = classifier.predict_proba(X_train_dash)[:,1]\n",
        "y_test_pred = classifier.predict(X_test_dash)\n",
        "y_test_prob = classifier.predict_proba(X_test_dash)[:,1]\n",
        "\n",
        "\n",
        "# Calculating logloss score for our model\n",
        "print(f'Train Logloss for the model -> {log_loss(y_train,y_train_prob)}')\n",
        "print(f'Test Logloss for the model -> {log_loss(y_test,y_test_prob)}')\n",
        "\n",
        "print('-'*50)\n",
        "# Calculating the AUC score for our model\n",
        "print(f'Train AUC Score for the model -> {roc_auc_score(y_train, y_train_prob)}')\n",
        "print(f'Test AUC Score for the model -> {roc_auc_score(y_test, y_test_prob)}')"
      ],
      "metadata": {
        "colab": {
          "base_uri": "https://localhost:8080/"
        },
        "id": "jIVZLs0f8WYT",
        "outputId": "4d8100cd-e4bf-4a8c-97ae-23961be170bb"
      },
      "execution_count": 62,
      "outputs": [
        {
          "output_type": "stream",
          "name": "stdout",
          "text": [
            "Train Logloss for the model -> 0.15783383866326642\n",
            "Test Logloss for the model -> 0.18167076558660705\n",
            "--------------------------------------------------\n",
            "Train AUC Score for the model -> 0.985610027236555\n",
            "Test AUC Score for the model -> 0.9822355563175038\n"
          ]
        }
      ]
    },
    {
      "cell_type": "markdown",
      "source": [
        "#Performing Predictions on Test Data"
      ],
      "metadata": {
        "id": "AhXcuG_mPwqp"
      }
    },
    {
      "cell_type": "code",
      "source": [
        "#importing test data\n",
        "df_test = pd.read_csv(\"test_set.csv\")"
      ],
      "metadata": {
        "id": "2_uKNfuoJv33"
      },
      "execution_count": 63,
      "outputs": []
    },
    {
      "cell_type": "code",
      "source": [
        "# Selecting the top features for test data\n",
        "test_data_dash = df_test[top_features]"
      ],
      "metadata": {
        "id": "y_cTJriV-Rj9"
      },
      "execution_count": 64,
      "outputs": []
    },
    {
      "cell_type": "code",
      "source": [
        "# Using StandardScaler to normalize our test data\n",
        "test_data_dash = pd.DataFrame(scaler.transform(test_data_dash),columns=test_data_dash.columns)"
      ],
      "metadata": {
        "id": "PMxBM5L9_5zi"
      },
      "execution_count": 65,
      "outputs": []
    },
    {
      "cell_type": "code",
      "source": [
        "y_test_pred = classifier.predict(test_data_dash)\n",
        "print(y_test_pred)"
      ],
      "metadata": {
        "colab": {
          "base_uri": "https://localhost:8080/"
        },
        "id": "2efpORRWKk0N",
        "outputId": "6575afca-bd92-4e65-a022-2f26d3dcbfb7"
      },
      "execution_count": 66,
      "outputs": [
        {
          "output_type": "stream",
          "name": "stdout",
          "text": [
            "[0 1 1 1 1 0 1 1 1 1 0 0 0 0 0 0 0 0 1 0 1 1 1 0 1 0 0 1 0 0 1 0 0 0 0 0 0\n",
            " 0 0 0 1 0 0 0 0 1 0 0 0 1 1 0 0 1 1 1 0 0 0 1 1 0 0 0 0 1 1 1 0 0 0 1 0 0\n",
            " 1 1 0 0 0 0 0 1 1 1 0 0 0 0 1 0 0 0 0 0 0 1 1 0 1 1 0 0 0 1 1 0 0 0 0 1 0\n",
            " 1 0 1 1 0 0 0 0 0 0 0 0 0 0 0 0 0 0 1 0 0 0 0 1 0 0 1 0 1 0 0 0 0 0 1 1 0\n",
            " 1 1 0 1 1 0 0 0 1 0 0 0 1 0 0 0 1 0 0 0 0 0 0 1 0 1 0 0 1 0 1 1 0 0 0 1 0\n",
            " 0 1 0 0 1 1 0 1 1 1 1 0 0 0 1 0 1 0 0 0 1 1 0 1 0 0 1 0 0 0 0 0 0 0 1 0 1\n",
            " 0 0 0 1 1 0 0 0 0 0 1 0 0 0 1 0 0 0 0 0 0 0 0 0 0 0 0 1 0 1 0 1 0 0 1 1 1\n",
            " 1 0 0 1 0 1 0 0 0 0 0 0 1 1 0 1 1 1 0 0 0 0 0 1 0 1 0 0 1 0 0 1 0 0 1 1 0\n",
            " 0 0 0 1 0 1 0 0 0 0 0 1 0 1 1 1 0 0 1 0 0 0 0 0 0 0 0 1 0 1 0 1 0 0 0 1 1\n",
            " 0 1 1 0 0 0 0 0 0 0 1 0 0 1 0 0 0 0 1 0 0 1 0 0 0 1 0 0 0 0 0 0 0 1 0 1 1\n",
            " 1 1 0 0 1 0 0 1 1 1 1 1 0 0 0 0 1 0 0 1 1 1 0 1 1 1 0 0 0 1 1 1 1 1 1 1 0\n",
            " 1 0 0 0 1 1 0 0 0 0 0 0 1 1 1 0 0 1 0 0 0 0 0 1 0 0 0 0 0 0 1 1 0 0 1 1 0\n",
            " 0 0 0 1 1 0 1 1 1 0 0 1 0 0 1 1 0 0 1 1 0 1 0 0 1 1 0 0 1 0 0 1 1 1 1 1 0\n",
            " 0 1 0 0 0 0 0 0 0 0 1 0 0 1 1 1 1 1 0 0 1 0 0 1 0 1 0 1 0 0 1 0 1 0 0 0 1\n",
            " 0 0 0 0 1 1 0 0 0 0 1 0 0 0 0 0 0 1 0 0 0 0 0 0 0 0 0 0 0 0 0 0 0 0 1 0 0\n",
            " 0 1 0 1 1 0 1 0 0 0 1 0 0 0 1 0 1 1 1 0 0 0 0 0 0 1 1 1 0 0 0 1 1 0 0 1 0\n",
            " 1 1 1 1 0 1 0 0 0 1 1 0 1 0 0 0 0 1 1 1 0 0 0 0 1 1 0 1 1 0 0 0 1 1 1 0 1\n",
            " 0 0 0 1 0 0 1 0 1 1 0 1 0 0 0 1 0 0 0 1 0 1 0 0 0 1 0 1 1 1 1 1 1 1 1 0 0\n",
            " 0 0 1 1 1 1 1 0 1 0 0 0 0 0 0 1 1 0 1 0 0 0 0 0 0]\n"
          ]
        }
      ]
    },
    {
      "cell_type": "code",
      "source": [
        "submission = pd.DataFrame({'':df_test['Unnamed: 0'], 'Y':y_test_pred})\n",
        "submission.to_csv('submission.csv', index=False)"
      ],
      "metadata": {
        "id": "XeY80zA1K4bE"
      },
      "execution_count": 67,
      "outputs": []
    },
    {
      "cell_type": "code",
      "source": [
        "#creating a requirements.txt folder\n",
        "!pip freeze > requirements.txt"
      ],
      "metadata": {
        "id": "H2A5c7J4NzQJ"
      },
      "execution_count": 68,
      "outputs": []
    }
  ]
}